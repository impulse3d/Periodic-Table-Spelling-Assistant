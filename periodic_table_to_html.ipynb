{
 "cells": [
  {
   "cell_type": "code",
   "execution_count": 1,
   "id": "0f2d3e28",
   "metadata": {},
   "outputs": [],
   "source": [
    "# This code is meant to help convert this to a webpage\n",
    "\n",
    "#import nbconvert\n",
    "#!jupyter nbconvert --html periodic_table_speller.ipynb"
   ]
  },
  {
   "cell_type": "code",
   "execution_count": null,
   "id": "ddcb4022",
   "metadata": {},
   "outputs": [],
   "source": [
    "# more of stuff I am trying\n",
    "!voila periodic_table_speller.ipynb"
   ]
  },
  {
   "cell_type": "code",
   "execution_count": null,
   "id": "99b33729",
   "metadata": {},
   "outputs": [],
   "source": []
  }
 ],
 "metadata": {
  "kernelspec": {
   "display_name": "Python 3 (ipykernel)",
   "language": "python",
   "name": "python3"
  },
  "language_info": {
   "codemirror_mode": {
    "name": "ipython",
    "version": 3
   },
   "file_extension": ".py",
   "mimetype": "text/x-python",
   "name": "python",
   "nbconvert_exporter": "python",
   "pygments_lexer": "ipython3",
   "version": "3.10.11"
  }
 },
 "nbformat": 4,
 "nbformat_minor": 5
}
