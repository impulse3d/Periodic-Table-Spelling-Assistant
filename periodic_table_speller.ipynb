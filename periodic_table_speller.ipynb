{
 "cells": [
  {
   "cell_type": "code",
   "execution_count": 1,
   "id": "9f305444",
   "metadata": {},
   "outputs": [],
   "source": [
    "# The following code will be used to create a periodic table speller for impulse3dprints\n",
    "import ipywidgets as widgets\n",
    "from IPython.display import display"
   ]
  },
  {
   "cell_type": "code",
   "execution_count": 2,
   "id": "1f307efe",
   "metadata": {},
   "outputs": [],
   "source": [
    "periodic_table_symbols = ['H','He','Li','Be','B','C','N','O','F','Ne',\n",
    "           'Na','Mg','Al','Si','P','S','Cl','Ar','K', 'Ca',\n",
    "           'Sc', 'Ti', 'V','Cr', 'Mn', 'Fe', 'Co', 'Ni',\n",
    "           'Cu', 'Zn', 'Ga', 'Ge', 'As', 'Se', 'Br', 'Kr',\n",
    "           'Rb', 'Sr', 'Y', 'Zr', 'Nb', 'Mo', 'Tc', 'Ru',\n",
    "           'Rh', 'Pd', 'Ag', 'Cd', 'In', 'Sn', 'Sb', 'Te',\n",
    "           'I', 'Xe','Cs', 'Ba','La', 'Ce', 'Pr', 'Nd', 'Pm',\n",
    "           'Sm', 'Eu', 'Gd', 'Tb', 'Dy', 'Ho', 'Er', 'Tm',\n",
    "           'Yb', 'Lu', 'Hf', 'Ta', 'W', 'Re', 'Os', 'Ir',\n",
    "           'Pt', 'Au', 'Hg', 'Tl', 'Pb', 'Bi', 'Po', 'At', 'Rn',\n",
    "           'Fr', 'Ra', 'Ac', 'Th', 'Pa', 'U', 'Np', 'Pu', 'Am',\n",
    "           'Cm', 'Bk', 'Cf', 'Es', 'Fm', 'Md', 'No', 'Lr',\n",
    "           'Rf', 'Db', 'Sg', 'Bh','Hs', 'Mt', 'Ds', 'Rg', 'Cn',\n",
    "           'Nh', 'Fl', 'Mc', 'Lv', 'Ts', 'Og']"
   ]
  },
  {
   "cell_type": "code",
   "execution_count": 3,
   "id": "eb0e94e4",
   "metadata": {},
   "outputs": [],
   "source": [
    "capitalized_alphabet = [\n",
    "    'A', 'D', 'E', 'G', 'J', 'L', 'M',\n",
    "    'Q', 'R', 'T', 'X', 'Z'\n",
    "]"
   ]
  },
  {
   "cell_type": "code",
   "execution_count": 4,
   "id": "e07f9098",
   "metadata": {},
   "outputs": [
    {
     "data": {
      "application/vnd.jupyter.widget-view+json": {
       "model_id": "4f2a086012c74d9594976d8ef0c5f027",
       "version_major": 2,
       "version_minor": 0
      },
      "text/plain": [
       "Label(value='What word are you wanting to spell?')"
      ]
     },
     "metadata": {},
     "output_type": "display_data"
    },
    {
     "data": {
      "application/vnd.jupyter.widget-view+json": {
       "model_id": "790c7a7028a6445888ee81f296a2573a",
       "version_major": 2,
       "version_minor": 0
      },
      "text/plain": [
       "Text(value='', description='Word:')"
      ]
     },
     "metadata": {},
     "output_type": "display_data"
    },
    {
     "data": {
      "application/vnd.jupyter.widget-view+json": {
       "model_id": "11c7b22813824f7cbe86066794565b7f",
       "version_major": 2,
       "version_minor": 0
      },
      "text/plain": [
       "Button(description='Spell It!', style=ButtonStyle())"
      ]
     },
     "metadata": {},
     "output_type": "display_data"
    },
    {
     "data": {
      "application/vnd.jupyter.widget-view+json": {
       "model_id": "0dabd25995834c758d07bda0c053fd64",
       "version_major": 2,
       "version_minor": 0
      },
      "text/plain": [
       "Output()"
      ]
     },
     "metadata": {},
     "output_type": "display_data"
    }
   ],
   "source": [
    "merged_list = periodic_table_symbols + capitalized_alphabet\n",
    "speller_dict = {}\n",
    "\n",
    "# Create a dictionary with lowercase keys and correct case combinations as values\n",
    "for s in merged_list:\n",
    "    lowercase_s = s.lower()\n",
    "    speller_dict[lowercase_s] = [s.capitalize()]\n",
    "\n",
    "#print(\"speller_dict:\")\n",
    "#print(speller_dict)\n",
    "\n",
    "def spell_word(word):\n",
    "    spelled_out = []\n",
    "    i = 0\n",
    "    word = word.lower()  # Convert the input word to lowercase\n",
    "    while i < len(word):\n",
    "        found = False\n",
    "        # Check for two-character substrings first\n",
    "        for j in range(2, 0, -1):\n",
    "            if i + j <= len(word):\n",
    "                two_chars = word[i:i + j]\n",
    "                if two_chars in speller_dict:\n",
    "                    spelled_out.append(speller_dict[two_chars][0])  # Append lowercase version\n",
    "                    i += j\n",
    "                    found = True\n",
    "                    break\n",
    "        if not found:\n",
    "            # If no two-character substring found, check for individual characters\n",
    "            char = word[i]\n",
    "            if char in speller_dict:\n",
    "                spelled_out.append(speller_dict[char][0])\n",
    "                i += 1\n",
    "            else:\n",
    "                spelled_out.append(\"<<Not Found>>\")\n",
    "                i += 1\n",
    "    return \"\".join(spelled_out)\n",
    "\n",
    "# Create widgets\n",
    "word_text = widgets.Text(description='Word:')\n",
    "spell_button = widgets.Button(description='Spell It!')\n",
    "output_text = widgets.Output()\n",
    "\n",
    "def on_spell_button_clicked(b):\n",
    "    with output_text:\n",
    "        output_text.clear_output()\n",
    "        user_input = word_text.value.strip()\n",
    "        spelled_word = spell_word(user_input)\n",
    "        print(\"Spelled version:\", spelled_word)\n",
    "\n",
    "# Register the event handler for the button click\n",
    "spell_button.on_click(on_spell_button_clicked)\n",
    "\n",
    "# Display the widgets\n",
    "display(widgets.Label(\"What word are you wanting to spell?\"))\n",
    "display(word_text)\n",
    "display(spell_button)\n",
    "display(output_text)\n"
   ]
  },
  {
   "cell_type": "code",
   "execution_count": 11,
   "id": "8865659e",
   "metadata": {},
   "outputs": [
    {
     "name": "stdout",
     "output_type": "stream",
     "text": [
      "['H', 'He', 'Li', 'Be', 'B', 'C', 'N', 'O', 'F', 'Ne', 'Na', 'Mg', 'Al', 'Si', 'P', 'S', 'Cl', 'Ar', 'K', 'Ca', 'Sc', 'Ti', 'V', 'Cr', 'Mn', 'Fe', 'Co', 'Ni', 'Cu', 'Zn', 'Ga', 'Ge', 'As', 'Se', 'Br', 'Kr', 'Rb', 'Sr', 'Y', 'Zr', 'Nb', 'Mo', 'Tc', 'Ru', 'Rh', 'Pd', 'Ag', 'Cd', 'In', 'Sn', 'Sb', 'Te', 'I', 'Xe', 'Cs', 'Ba', 'La', 'Ce', 'Pr', 'Nd', 'Pm', 'Sm', 'Eu', 'Gd', 'Tb', 'Dy', 'Ho', 'Er', 'Tm', 'Yb', 'Lu', 'Hf', 'Ta', 'W', 'Re', 'Os', 'Ir', 'Pt', 'Au', 'Hg', 'Tl', 'Pb', 'Bi', 'Po', 'At', 'Rn', 'Fr', 'Ra', 'Ac', 'Th', 'Pa', 'U', 'Np', 'Pu', 'Am', 'Cm', 'Bk', 'Cf', 'Es', 'Fm', 'Md', 'No', 'Lr', 'Rf', 'Db', 'Sg', 'Bh', 'Hs', 'Mt', 'Ds', 'Rg', 'Cn', 'Nh', 'Fl', 'Mc', 'Lv', 'Ts', 'Og', 'A', 'D', 'E', 'G', 'J', 'L', 'M', 'Q', 'R', 'T', 'X', 'Z']\n"
     ]
    }
   ],
   "source": [
    "#print(merged_list)"
   ]
  },
  {
   "cell_type": "code",
   "execution_count": null,
   "id": "147d4187",
   "metadata": {},
   "outputs": [],
   "source": []
  }
 ],
 "metadata": {
  "kernelspec": {
   "display_name": "Python 3 (ipykernel)",
   "language": "python",
   "name": "python3"
  },
  "language_info": {
   "codemirror_mode": {
    "name": "ipython",
    "version": 3
   },
   "file_extension": ".py",
   "mimetype": "text/x-python",
   "name": "python",
   "nbconvert_exporter": "python",
   "pygments_lexer": "ipython3",
   "version": "3.10.11"
  }
 },
 "nbformat": 4,
 "nbformat_minor": 5
}
